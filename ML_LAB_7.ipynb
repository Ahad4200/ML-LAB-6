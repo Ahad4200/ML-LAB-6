{
  "cells": [
    {
      "cell_type": "markdown",
      "metadata": {
        "id": "view-in-github",
        "colab_type": "text"
      },
      "source": [
        "<a href=\"https://colab.research.google.com/github/Ahad4200/ML-LAB-6/blob/main/ML_LAB_7.ipynb\" target=\"_parent\"><img src=\"https://colab.research.google.com/assets/colab-badge.svg\" alt=\"Open In Colab\"/></a>"
      ]
    },
    {
      "cell_type": "code",
      "execution_count": null,
      "metadata": {
        "colab": {
          "base_uri": "https://localhost:8080/"
        },
        "id": "DpBuYWJYdg29",
        "outputId": "b880a1f4-4022-4af8-a218-7fd2ed77690b"
      },
      "outputs": [
        {
          "name": "stdout",
          "output_type": "stream",
          "text": [
            "Hidden Layer Activations: [0.59447593 0.5962827 ]\n",
            "Output Layer Activations: [0.75693192 0.76771788]\n",
            "Target: [0.01 0.99]\n",
            "Errors: [0.27895364 0.02470467]\n",
            "Total Error: 0.303658313630144\n"
          ]
        }
      ],
      "source": [
        "import numpy as np\n",
        "\n",
        "# Sigmoid activation function and its derivative\n",
        "def sigmoid(x):\n",
        "    return 1 / (1 + np.exp(-x))\n",
        "\n",
        "def sigmoid_derivative(x):\n",
        "    return sigmoid(x) * (1 - sigmoid(x))\n",
        "\n",
        "# Inputs\n",
        "i1, i2 = 0.05, 0.10  # Example input values\n",
        "inputs = np.array([i1, i2])\n",
        "\n",
        "# Target outputs\n",
        "target = np.array([0.01, 0.99])\n",
        "\n",
        "# Weights (initialized as per the diagram, or randomly if not provided)\n",
        "w1, w2, w3, w4 = 0.15, 0.20, 0.25, 0.30  # Input to hidden\n",
        "w5, w6, w7, w8 = 0.40, 0.45, 0.50, 0.55  # Hidden to output\n",
        "weights_input_hidden = np.array([[w1, w2], [w3, w4]])  # shape (2, 2)\n",
        "weights_hidden_output = np.array([[w5, w6], [w7, w8]])  # shape (2, 2)\n",
        "\n",
        "# Biases\n",
        "b1, b2 = 0.35, 0.60\n",
        "\n",
        "# Forward pass\n",
        "# Hidden layer\n",
        "hidden_input = np.dot(inputs, weights_input_hidden) + b1\n",
        "hidden_output = sigmoid(hidden_input)\n",
        "\n",
        "# Output layer\n",
        "final_input = np.dot(hidden_output, weights_hidden_output) + b2\n",
        "final_output = sigmoid(final_input)\n",
        "\n",
        "# Error (Mean Squared Error)\n",
        "errors = 0.5 * (target - final_output)**2\n",
        "total_error = np.sum(errors)\n",
        "\n",
        "# Display results\n",
        "print(\"Hidden Layer Activations:\", hidden_output)\n",
        "print(\"Output Layer Activations:\", final_output)\n",
        "print(\"Target:\", target)\n",
        "print(\"Errors:\", errors)\n",
        "print(\"Total Error:\", total_error)\n"
      ]
    }
  ],
  "metadata": {
    "colab": {
      "provenance": [],
      "include_colab_link": true
    },
    "kernelspec": {
      "display_name": "base",
      "language": "python",
      "name": "python3"
    },
    "language_info": {
      "codemirror_mode": {
        "name": "ipython",
        "version": 3
      },
      "file_extension": ".py",
      "mimetype": "text/x-python",
      "name": "python",
      "nbconvert_exporter": "python",
      "pygments_lexer": "ipython3",
      "version": "3.12.7"
    }
  },
  "nbformat": 4,
  "nbformat_minor": 0
}